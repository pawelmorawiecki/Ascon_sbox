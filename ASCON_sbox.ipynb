{
 "cells": [
  {
   "cell_type": "code",
   "execution_count": 4,
   "metadata": {},
   "outputs": [],
   "source": [
    "import numpy as np"
   ]
  },
  {
   "cell_type": "markdown",
   "metadata": {},
   "source": [
    "# ASCON S-box"
   ]
  },
  {
   "cell_type": "code",
   "execution_count": 5,
   "metadata": {},
   "outputs": [],
   "source": [
    "S5 = (4, 11, 31, 20, 26, 21, 9, 2, 27, 5, 8, 18, 29, 3, 6, 28,\n",
    "      30, 19, 7, 14, 0, 13, 17, 24, 16, 12, 1, 25, 22, 10, 15, 23)"
   ]
  },
  {
   "cell_type": "code",
   "execution_count": 6,
   "metadata": {},
   "outputs": [],
   "source": [
    "def bin_array(num, m):\n",
    "    \"\"\"Convert a positive integer num into an m-bit bit vector\"\"\"\n",
    "    return np.array(list(np.binary_repr(num).zfill(m))).astype(np.int8)"
   ]
  },
  {
   "cell_type": "markdown",
   "metadata": {},
   "source": [
    "# Differential profile"
   ]
  },
  {
   "cell_type": "code",
   "execution_count": 27,
   "metadata": {},
   "outputs": [],
   "source": [
    "ASCON_diff = np.zeros((32,32))"
   ]
  },
  {
   "cell_type": "code",
   "execution_count": 28,
   "metadata": {},
   "outputs": [],
   "source": [
    "for input_diff in range(32):\n",
    "    for i in range(32):\n",
    "        output_diff = S5[i] ^ S5[i^input_diff]\n",
    "        ASCON_diff[int(input_diff)][int(output_diff)] +=1"
   ]
  },
  {
   "cell_type": "code",
   "execution_count": 29,
   "metadata": {},
   "outputs": [
    {
     "name": "stdout",
     "output_type": "stream",
     "text": [
      "\n",
      "\n",
      "32 0 0 0 0 0 0 0 0 0 0 0 0 0 0 0 0 0 0 0 0 0 0 0 0 0 0 0 0 0 0 0\n",
      "\n",
      " 0 0 0 0 0 0 0 0 0 4 0 4 0 4 0 4 0 0 0 0 0 0 0 0 4 0 4 0 4 0 4 0\n",
      "\n",
      " 0 0 0 0 0 0 0 0 0 0 0 0 0 0 0 0 0 4 0 4 0 4 0 4 0 4 0 4 0 4 0 4\n",
      "\n",
      " 0 4 0 0 0 4 0 0 0 4 0 0 0 4 0 0 4 0 0 0 4 0 0 0 4 0 0 0 4 0 0 0\n",
      "\n",
      " 0 0 0 0 0 0 8 0 0 0 0 0 0 0 8 0 0 0 0 0 0 0 8 0 0 0 0 0 0 0 8 0\n",
      "\n",
      " 0 0 0 0 0 0 0 0 0 0 0 0 0 0 0 0 0 4 0 4 4 0 4 0 4 0 4 0 0 4 0 4\n",
      "\n",
      " 0 2 0 2 0 2 0 2 0 2 0 2 0 2 0 2 0 2 0 2 0 2 0 2 0 2 0 2 0 2 0 2\n",
      "\n",
      " 0 0 4 4 0 0 4 4 0 0 4 4 0 0 4 4 0 0 0 0 0 0 0 0 0 0 0 0 0 0 0 0\n",
      "\n",
      " 0 0 0 0 0 0 4 4 0 0 0 0 0 0 4 4 0 0 0 0 0 0 4 4 0 0 0 0 0 0 4 4\n",
      "\n",
      " 0 2 0 2 2 0 2 0 2 0 2 0 0 2 0 2 2 0 2 0 0 2 0 2 0 2 0 2 2 0 2 0\n",
      "\n",
      " 0 2 2 0 2 0 0 2 0 2 2 0 2 0 0 2 0 2 2 0 2 0 0 2 0 2 2 0 2 0 0 2\n",
      "\n",
      " 0 0 2 2 0 0 2 2 0 0 2 2 0 0 2 2 0 0 2 2 0 0 2 2 0 0 2 2 0 0 2 2\n",
      "\n",
      " 0 8 0 0 0 0 0 0 8 0 0 0 0 0 0 0 8 0 0 0 0 0 0 0 0 8 0 0 0 0 0 0\n",
      "\n",
      " 0 2 0 2 0 2 0 2 2 0 2 0 2 0 2 0 2 0 2 0 2 0 2 0 0 2 0 2 0 2 0 2\n",
      "\n",
      " 0 4 4 0 4 0 0 4 0 0 0 0 0 0 0 0 0 4 4 0 4 0 0 4 0 0 0 0 0 0 0 0\n",
      "\n",
      " 0 0 0 0 0 0 0 0 4 4 0 0 4 4 0 0 0 0 0 0 0 0 0 0 4 4 0 0 4 4 0 0\n",
      "\n",
      " 0 0 0 0 0 0 0 0 0 8 0 8 0 0 0 0 0 0 0 0 0 0 0 0 8 0 8 0 0 0 0 0\n",
      "\n",
      " 0 0 0 0 0 0 0 0 0 0 0 0 0 0 0 0 0 8 0 8 0 8 0 8 0 0 0 0 0 0 0 0\n",
      "\n",
      " 0 2 0 2 0 2 0 2 0 2 0 2 0 2 0 2 2 0 2 0 2 0 2 0 2 0 2 0 2 0 2 0\n",
      "\n",
      " 0 0 8 0 8 0 0 0 0 0 8 0 8 0 0 0 0 0 0 0 0 0 0 0 0 0 0 0 0 0 0 0\n",
      "\n",
      " 0 0 0 0 4 4 4 4 0 0 0 0 4 4 4 4 0 0 0 0 0 0 0 0 0 0 0 0 0 0 0 0\n",
      "\n",
      " 0 0 0 0 0 4 0 4 0 4 0 4 0 0 0 0 0 4 0 4 0 0 0 0 0 0 0 0 0 4 0 4\n",
      "\n",
      " 0 0 0 0 0 0 0 0 0 0 0 0 0 0 0 0 2 2 2 2 2 2 2 2 2 2 2 2 2 2 2 2\n",
      "\n",
      " 0 0 4 0 4 0 0 0 0 0 4 0 4 0 0 0 0 0 4 0 4 0 0 0 0 0 4 0 4 0 0 0\n",
      "\n",
      " 0 0 0 0 2 2 2 2 0 0 0 0 2 2 2 2 0 0 0 0 2 2 2 2 0 0 0 0 2 2 2 2\n",
      "\n",
      " 0 0 0 4 0 0 4 0 4 0 0 0 0 4 0 0 4 0 0 0 0 4 0 0 0 0 0 4 0 0 4 0\n",
      "\n",
      " 0 2 2 0 0 2 2 0 2 0 0 2 2 0 0 2 0 2 2 0 0 2 2 0 2 0 0 2 2 0 0 2\n",
      "\n",
      " 0 0 2 2 2 2 0 0 0 0 2 2 2 2 0 0 0 0 2 2 2 2 0 0 0 0 2 2 2 2 0 0\n",
      "\n",
      " 0 4 0 4 0 0 0 0 4 0 4 0 0 0 0 0 4 0 4 0 0 0 0 0 0 4 0 4 0 0 0 0\n",
      "\n",
      " 0 0 0 4 0 4 0 0 4 0 0 0 0 0 4 0 4 0 0 0 0 0 4 0 0 0 0 4 0 4 0 0\n",
      "\n",
      " 0 0 0 0 0 0 0 0 2 2 2 2 2 2 2 2 0 0 0 0 0 0 0 0 2 2 2 2 2 2 2 2\n",
      "\n",
      " 0 0 4 4 4 4 0 0 0 0 0 0 0 0 0 0 0 0 4 4 4 4 0 0 0 0 0 0 0 0 0 0"
     ]
    }
   ],
   "source": [
    "for i in range(32):\n",
    "    print (\"\\n\")\n",
    "    for j in range(32):\n",
    "        print (str(int(ASCON_diff[i][j])).rjust(2), end='')"
   ]
  },
  {
   "cell_type": "markdown",
   "metadata": {},
   "source": [
    "# Linear profile"
   ]
  },
  {
   "cell_type": "code",
   "execution_count": 7,
   "metadata": {},
   "outputs": [],
   "source": [
    "ASCON_linear = np.zeros((32,32))"
   ]
  },
  {
   "cell_type": "code",
   "execution_count": 8,
   "metadata": {},
   "outputs": [],
   "source": [
    "\n",
    "\n",
    "for i in range(32):\n",
    "    for input_mask in range(1,32):\n",
    "        for output_mask in range(1,32):\n",
    "            v1 = bin_array(i, 7)\n",
    "            v2 = bin_array(S5[i], 7)\n",
    "            sp1 = np.dot(v1,bin_array(input_mask, 7).T)%2\n",
    "            sp2 = np.dot(v2,bin_array(output_mask, 7).T)%2\n",
    "            if (sp1==sp2): ASCON_linear[input_mask][output_mask] += 1\n",
    "            if (sp1!=sp2): ASCON_linear[input_mask][output_mask] -= 1    "
   ]
  },
  {
   "cell_type": "code",
   "execution_count": 26,
   "metadata": {},
   "outputs": [
    {
     "data": {
      "text/plain": [
       "16.0"
      ]
     },
     "execution_count": 26,
     "metadata": {},
     "output_type": "execute_result"
    }
   ],
   "source": [
    "np.max(np.abs(ASCON_linear)) #max absolute value in the linear profile"
   ]
  },
  {
   "cell_type": "code",
   "execution_count": 24,
   "metadata": {},
   "outputs": [
    {
     "name": "stdout",
     "output_type": "stream",
     "text": [
      "\n",
      "\n",
      "  0  0  0  0  0  0  0  0  0  0  0  0  0  0  0  0  0  0  0  0  0  0  0  0  0  0  0  0  0  0  0  0\n",
      "\n",
      "  0  0  0  0  0  0 16  0  0  8  8  0  0 -8  8  0  0  0  8  8  0  0  8 -8  8  0 -8  0 -8  0 -8  0\n",
      "\n",
      "  0  0  0  0  0  0-16 16  0  0  8  8  0  0  8  8  0  0  8  8  0  0 -8 -8  0  0  0  0  0  0  0  0\n",
      "\n",
      "  0 16  0  0  0  0  0  0  0  8  0  8  0  8  0 -8-16  0  0  0  0  0  0  0  8  0  8  0  8  0 -8  0\n",
      "\n",
      "  0  0  0  8  0 -8  0  0  0  0  8  0  0  8 -8 -8  0  0  8  0 -8  0  0  0  0-16  0 -8 -8  0  8 -8\n",
      "\n",
      "  0  0  0  8  0  8  0  0  0 -8  0  0  0  0  0 -8  0  0  0 -8  8  0 -8 -8  8  0 -8  8  0-16  0 -8\n",
      "\n",
      "  0  0  0  8  0 -8  0  0  0  0  0 -8  0  8  0  0  0  0  0 -8 -8  0 -8 -8  0 16  0 -8 -8  0 -8  8\n",
      "\n",
      "  0  0  0 -8  0 -8  0  0  0  8  8  8  0  0 -8  0  0  0 -8  0 -8  0  0  0 -8  0 -8  8  0-16  0  8\n",
      "\n",
      "  0  0  0  0  0  0  0  0  0  0  8  8  0  0 -8 -8  0  0  0  0  0  0  0  0  0 16 -8  8  0 16  8 -8\n",
      "\n",
      "  0  0  0  0  0  0  0-16  0 -8  0  8  0  8  0  8  0  0  8  8  0  0 -8  8  8  0  0  8 -8  0  0  8\n",
      "\n",
      "  0  0  0  0  0  0  0  0  0  0  0  0  0  0  0  0  0  0  8  8  0  0  8  8  0 16  8 -8  0-16  8 -8\n",
      "\n",
      "  0 16  0  0  0  0  0  0  0 -8  8  0  0 -8 -8  0 16  0  0  0  0  0  0  0  8  0  0 -8  8  0  0  8\n",
      "\n",
      "  0  0-16  8-16 -8  0  0  0  0  0  8  0 -8  0  0  0  0 -8  0  8  0  0  0  0  0  8  0 -8  0  0  0\n",
      "\n",
      "  0  0  0 -8-16  8  0  0  0  8 -8 -8  0  0 -8  0  0  0  0  8 -8  0 -8 -8  8  0  0  0  0  0  8  0\n",
      "\n",
      "  0  0  0 -8 16 -8  0  0  0  0 -8  0  0 -8 -8 -8  0  0  0  8  8  0 -8 -8  0  0  8  0 -8  0  0  0\n",
      "\n",
      "  0  0 16 -8-16 -8  0  0  0 -8  0  0  0  0  0 -8  0  0  8  0  8  0  0  0 -8  0  0  0  0  0 -8  0\n",
      "\n",
      "  0  0  0  0  0  0-16  0  0  8  0 -8 -8  0 -8  0  0  0  0  0  8 -8  8  8  8  0 -8  0 -8  0 -8  0\n",
      "\n",
      "  0  0  0  0  0  0  0  0-16  0 -8  8 -8 -8  0  0  0 16  8 -8 -8 -8  0  0  0  0  0  0  0  0  0  0\n",
      "\n",
      "  0-16  0  0  0  0  0  0  0 -8  8  0 -8  0  0 -8  0  0 -8  8 -8 -8  0  0  8  0  8  0  8  0 -8  0\n",
      "\n",
      "  0  0  0  0  0  0-16-16  0  0  0  0  8 -8  8 -8  0  0  0  0 -8  8  8 -8  0  0  0  0  0  0  0  0\n",
      "\n",
      "  0  0  0  8  0  8  0  0  0  8  8 -8 -8 -8  0 -8  0  0  8  0  0  8 -8  8 -8  0  8  8  0  0  0  8\n",
      "\n",
      "  0  0  0  8  0 -8  0  0  0  0  0 -8  8  0 -8  8  0 16  0  8  0  8  0  0  0  0  0  8  8  0 -8 -8\n",
      "\n",
      "  0  0  0 -8  0 -8  0  0  0  8  0  0 -8  8  8  0 16  0  0 -8  0  8  0  0  8  0  8  8  0  0  0 -8\n",
      "\n",
      "  0  0  0  8  0 -8  0  0 16  0 -8  0 -8  0  0  0  0  0  8  0  0 -8  8 -8  0  0  0  8  8  0  8  8\n",
      "\n",
      "  0  0  0  0  0  0  0-16  0  8  8  0 -8  0  0  8  0  0  0  0  8 -8 -8 -8 -8  0  0 -8  8  0  0 -8\n",
      "\n",
      "  0  0  0  0  0  0  0  0  0  0  0  0  8 -8 -8  8  0-16  8 -8 -8 -8  0  0  0  0  8  8  0  0 -8 -8\n",
      "\n",
      "  0 16  0  0  0  0  0  0  0 -8  0 -8 -8  0  8  0  0  0 -8  8 -8 -8  0  0 -8  0  0  8 -8  0  0 -8\n",
      "\n",
      "  0  0  0  0  0  0  0  0 16  0 -8  8 -8 -8  0  0  0  0  0  0 -8  8 -8  8  0  0 -8 -8  0  0 -8 -8\n",
      "\n",
      "  0  0 16  8  0 -8  0  0  0  8  0  0  8 -8  8  0  0  0 -8  0  0 -8 -8  8  8  0  0  0  0  0  8  0\n",
      "\n",
      "  0  0  0 -8  0  8  0  0 16  0  8  0  8  0  0  0  0 16  0 -8  0 -8  0  0  0  0  8  0 -8  0  0  0\n",
      "\n",
      "  0  0  0  8  0  8  0  0  0  8 -8  8  8  8  0 -8 16  0  0  8  0 -8  0  0 -8  0  0  0  0  0 -8  0\n",
      "\n",
      "  0  0 16  8  0  8  0  0  0  0  0  8 -8  0 -8  8  0  0 -8  0  0  8  8 -8  0  0  8  0 -8  0  0  0"
     ]
    }
   ],
   "source": [
    "for i in range(32):\n",
    "    print (\"\\n\")\n",
    "    for j in range(32):\n",
    "        print (str(int(ASCON_linear[i][j])).rjust(3), end='')"
   ]
  },
  {
   "cell_type": "code",
   "execution_count": null,
   "metadata": {
    "collapsed": true
   },
   "outputs": [],
   "source": []
  }
 ],
 "metadata": {
  "kernelspec": {
   "display_name": "Python 3",
   "language": "python",
   "name": "python3"
  },
  "language_info": {
   "codemirror_mode": {
    "name": "ipython",
    "version": 3
   },
   "file_extension": ".py",
   "mimetype": "text/x-python",
   "name": "python",
   "nbconvert_exporter": "python",
   "pygments_lexer": "ipython3",
   "version": "3.6.11"
  }
 },
 "nbformat": 4,
 "nbformat_minor": 2
}
